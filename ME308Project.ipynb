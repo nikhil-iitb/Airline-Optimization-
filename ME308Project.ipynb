{
  "cells": [
    {
      "cell_type": "markdown",
      "source": [
        "# ME308 PROJECT: AIRPLANE SCHEDULING AND COST MINIMIZATION"
      ],
      "metadata": {
        "id": "clYkNDeGztIV"
      },
      "id": "clYkNDeGztIV"
    },
    {
      "cell_type": "markdown",
      "source": [
        "## Problem Statement 1\n",
        "Given a set of routes pq on which there exists an average daily traffic Ppq which must be carried by a fleet consisting of limited numbers of different types of aircraft, find the least cost assignment of aircraft to routes such that a minimum frequency of daily service on each route is satisfied, and such that aircraft movements balance at every station while not exceeding a daily allowable maximum imposed\n",
        "by airport congestion."
      ],
      "metadata": {
        "id": "yZVhB7FZwS0s"
      },
      "id": "yZVhB7FZwS0s"
    },
    {
      "cell_type": "markdown",
      "source": [
        "### Declaring all variables"
      ],
      "metadata": {
        "id": "tsIRbFj7zlzh"
      },
      "id": "tsIRbFj7zlzh"
    },
    {
      "cell_type": "code",
      "execution_count": 103,
      "id": "a8c461d7",
      "metadata": {
        "id": "a8c461d7"
      },
      "outputs": [],
      "source": [
        "import numpy\n",
        "\n",
        "#Adjustable parameters\n",
        "cities = 3  # no of cities being catered\n",
        "\n",
        "# The load factor is a metric used in the airline industry that measures the percentage of available seating capacity that has been filled with passengers\n",
        "LF_pq = numpy.zeros((cities, cities))\n",
        "# estimated average for daily traffic from p to q\n",
        "P_pq = numpy.zeros((cities, cities))\n",
        "# an appropriate direct operating cost for an aircraft a on route pq\n",
        "DC_pq = numpy.zeros((cities, cities))\n",
        "# Stores distance between 2 airports p and q\n",
        "d_pq = numpy.zeros((cities, cities))\n",
        "# stores seating capacity for a given aircraft\n",
        "S = 180\n",
        "# estimated average for daily traffic from p to q\n",
        "P_pq = numpy.zeros((cities, cities))\n",
        "# block hours for aircraft a to fly route pq\n",
        "# Block time includes the time to taxi-out to the runway, the actual flight duration and the time to taxi to the arrival gate, but the published schedule for the flight doesn't break these elements apart.\n",
        "Tb_pq = numpy.zeros((cities, cities))\n",
        "# assumed average daily utilization for fleet a [in hours] - depends on stage length as well (the amount of time plane has flown)\n",
        "U = 8\n",
        "# number of aircrafts\n",
        "A = 50\n",
        "# a specified minimum level of service should be maintained on each route\n",
        "Nmin_pq = numpy.zeros((cities, cities))\n",
        "# maximum number of daily departures allowed at station p\n",
        "N_maxp = numpy.zeros(cities)"
      ]
    },
    {
      "cell_type": "markdown",
      "source": [
        "### Initialization of variables"
      ],
      "metadata": {
        "id": "wyFke645z7tw"
      },
      "id": "wyFke645z7tw"
    },
    {
      "cell_type": "markdown",
      "source": [
        "Some information before code\n",
        "We take three cities for testing - Mumbai, Delhi, Lucknow <br>\n",
        "Distance(Mumbai->Delhi) = 1137Km <br>\n",
        "Distance(Delhi->Lucknow) = 553Km <br>\n",
        "Distance(Mumbai->Lucknow) = 1378km <br>\n",
        "<br>\n",
        "We assume presence of two fleets in our airlines - A320 200 and B737 (say)<br>\n",
        "Seating capacity of each of them is equal to 180 <br><br>\n",
        "Since Delhi and Lucknow are close to each other people also prefer superfast trains as compared to flight since it takes same time. So load factor for Delhi to Lucknow might be low.<br>\n",
        "But in our case we assume constant load factor = 1<br>\n",
        "Average daily traffic from one city to other is taken as 1000 for Mumbai to Delhi, 400 for Delhi to Lucknow and 700 for Mumbai to Lucknow<br><br>\n",
        "One major assumption is aircrafts fly at same velocity throughout the journey and velocity of aircraft is ~900km/hr <br>\n",
        "Fuel cost = INR 40 per litre (assuming full seats) # is not valid when LF<1 though <br>\n",
        "Fuel consumption = 4.18 L/km (Data for A320) <br>\n",
        "DC = fuel consumption * distance * fuel cost <br>\n",
        "<br>\n",
        "Block time = distance/velocity + 1hr<br><br>\n",
        "Assumed average utilisation is 8hrs\n",
        "<br><br>\n",
        "Minimum level of service = 1\n",
        "<br>\n",
        "Maximum level of service = 900 for Mumbai, 800 for Delhi and 100 for Lucknow\n",
        "<br>\n",
        "No of aircrafts = 50\n",
        "\n"
      ],
      "metadata": {
        "id": "OUaa5LIn0vGC"
      },
      "id": "OUaa5LIn0vGC"
    },
    {
      "cell_type": "code",
      "source": [
        "import numpy as np\n",
        "# The order is Mumbai, Delhi, Lucknow in each case\n",
        "LF_pq = np.array(np.ones((cities, cities)))\n",
        "fuel_cost = 40\n",
        "fuel_consumption = 4.18\n",
        "DC_pq = np.array(np.dot(d_pq, fuel_cost*fuel_consumption))\n",
        "d_pq = numpy.array([\n",
        "    [0, 1137, 1378],\n",
        "    [1137, 0, 553],\n",
        "    [1378, 553, 0]\n",
        "])\n",
        "S = 180\n",
        "P_pq = np.array([\n",
        "    [0, 1000, 700],\n",
        "    [1000, 0, 400],\n",
        "    [700, 400, 0]\n",
        "]) # assume symmetric demand as of now\n",
        "Tb_pq = d_pq/900+1 #addition of 1 is for gate closing and onboarding time\n",
        "for i in range(cities):\n",
        "  Tb_pq[i][i] = 0 #since no flight is between them\n",
        "U = 8\n",
        "A = 50\n",
        "Nmin_pq = np.array(np.ones((cities, cities)))\n",
        "for i in range(cities):\n",
        "  Nmin_pq[i][i] = 0 #no flights to same airport\n",
        "Nmax_p = np.array([900, 800, 100])"
      ],
      "metadata": {
        "id": "hMmZgmeSz_EV"
      },
      "id": "hMmZgmeSz_EV",
      "execution_count": 104,
      "outputs": []
    },
    {
      "cell_type": "markdown",
      "source": [
        "### Initialising pulp and creating decision variable"
      ],
      "metadata": {
        "id": "BiytjFfWCh0I"
      },
      "id": "BiytjFfWCh0I"
    },
    {
      "cell_type": "code",
      "source": [
        "# pip install pulp"
      ],
      "metadata": {
        "id": "ZuRnVLwvCm2g"
      },
      "id": "ZuRnVLwvCm2g",
      "execution_count": 105,
      "outputs": []
    },
    {
      "cell_type": "code",
      "source": [
        "from pulp import *\n",
        "# decision variable\n",
        "n_pq = LpVariable.dicts(\"n\", (range(cities), range(cities)), cat=\"Integer\")\n",
        "print(n_pq)"
      ],
      "metadata": {
        "colab": {
          "base_uri": "https://localhost:8080/"
        },
        "id": "vMyYHrypCqbZ",
        "outputId": "a6625a79-995c-4600-a6ed-fd149b07ecb8"
      },
      "id": "vMyYHrypCqbZ",
      "execution_count": 106,
      "outputs": [
        {
          "output_type": "stream",
          "name": "stdout",
          "text": [
            "{0: {0: n_0_0, 1: n_0_1, 2: n_0_2}, 1: {0: n_1_0, 1: n_1_1, 2: n_1_2}, 2: {0: n_2_0, 1: n_2_1, 2: n_2_2}}\n"
          ]
        }
      ]
    },
    {
      "cell_type": "markdown",
      "source": [
        "## Optimization problem\n",
        "Minimize operating cost for fixed revenue $$\\sum_{pq}DC_{pq}n_{pq}$$\n",
        "The model is of LP minimization type with the following constraints<br>\n",
        "1. Demand on all routes must be carried (Load factor is 1)\n",
        "$$\\sum S n_{pq} \\ge P_{pq} \\forall pq$$\n",
        "2. Fleet availability must not be exceeded\n",
        "$$\\sum_{pq} Tb_{pq}n_{pq} \\le UA$$\n",
        "3. Aircraft movements must balance over the day at every station\n",
        "$$\\sum_{q}n_{pq} = \\sum_{q}n_{qp}$$\n",
        "4. Minimum daily frequency must be maintained on each route\n",
        "$$\\sum n_{pq} \\ge Nmin_{pq}$$\n",
        "5. Maximum daily departures at a station are limited due to airport capacity\n",
        "$$\\sum_{q}n_{pq} \\le Nmax_{p}$$"
      ],
      "metadata": {
        "id": "2kzzNbC6DCs5"
      },
      "id": "2kzzNbC6DCs5"
    },
    {
      "cell_type": "code",
      "source": [
        "model = LpProblem(\"Airline Cost Minimizer\", LpMinimize)\n",
        "model += lpSum([DC_pq[i][j] * n_pq[i][j] for i in range(cities) for j in range(cities)]); #optimization function\n",
        "for i in range(cities):\n",
        "  for j in range(cities):\n",
        "    model += S*n_pq[i][j]>=P_pq[i][j];\n",
        "    model += n_pq[i][j] >= Nmin_pq[i][j]\n",
        "model += lpSum([Tb_pq[i][j] * n_pq[i][j] for i in range(cities) for j in range(cities)]) <= U*A;\n",
        "for i in range(cities):\n",
        "  model += lpSum(n_pq[i][j] for j in range(cities)) == lpSum(n_pq[j][i] for j in range(cities))\n",
        "  model += lpSum(n_pq[i][j] for j in range(cities)) <= Nmax_p[i]\n",
        "print(model);"
      ],
      "metadata": {
        "colab": {
          "base_uri": "https://localhost:8080/"
        },
        "id": "WoeCbJArFe3E",
        "outputId": "1e77fc82-82b5-4f10-da39-795e36f83847"
      },
      "id": "WoeCbJArFe3E",
      "execution_count": 107,
      "outputs": [
        {
          "output_type": "stream",
          "name": "stdout",
          "text": [
            "Airline_Cost_Minimizer:\n",
            "MINIMIZE\n",
            "0\n",
            "SUBJECT TO\n",
            "_C1: 180 n_0_0 <= 0\n",
            "\n",
            "_C2: n_0_0 >= 0\n",
            "\n",
            "_C3: 180 n_0_1 <= 1000\n",
            "\n",
            "_C4: n_0_1 >= 1\n",
            "\n",
            "_C5: 180 n_0_2 <= 700\n",
            "\n",
            "_C6: n_0_2 >= 1\n",
            "\n",
            "_C7: 180 n_1_0 <= 1000\n",
            "\n",
            "_C8: n_1_0 >= 1\n",
            "\n",
            "_C9: 180 n_1_1 <= 0\n",
            "\n",
            "_C10: n_1_1 >= 0\n",
            "\n",
            "_C11: 180 n_1_2 <= 400\n",
            "\n",
            "_C12: n_1_2 >= 1\n",
            "\n",
            "_C13: 180 n_2_0 <= 700\n",
            "\n",
            "_C14: n_2_0 >= 1\n",
            "\n",
            "_C15: 180 n_2_1 <= 400\n",
            "\n",
            "_C16: n_2_1 >= 1\n",
            "\n",
            "_C17: 180 n_2_2 <= 0\n",
            "\n",
            "_C18: n_2_2 >= 0\n",
            "\n",
            "_C19: 2.26333333333 n_0_1 + 2.53111111111 n_0_2 + 2.26333333333 n_1_0\n",
            " + 1.61444444444 n_1_2 + 2.53111111111 n_2_0 + 1.61444444444 n_2_1 <= 400\n",
            "\n",
            "_C20: 0 n_0_0 + n_0_1 + n_0_2 - n_1_0 - n_2_0 = 0\n",
            "\n",
            "_C21: n_0_0 + n_0_1 + n_0_2 <= 900\n",
            "\n",
            "_C22: - n_0_1 + n_1_0 + 0 n_1_1 + n_1_2 - n_2_1 = 0\n",
            "\n",
            "_C23: n_1_0 + n_1_1 + n_1_2 <= 800\n",
            "\n",
            "_C24: - n_0_2 - n_1_2 + n_2_0 + n_2_1 + 0 n_2_2 = 0\n",
            "\n",
            "_C25: n_2_0 + n_2_1 + n_2_2 <= 100\n",
            "\n",
            "VARIABLES\n",
            "n_0_0 free Integer\n",
            "n_0_1 free Integer\n",
            "n_0_2 free Integer\n",
            "n_1_0 free Integer\n",
            "n_1_1 free Integer\n",
            "n_1_2 free Integer\n",
            "n_2_0 free Integer\n",
            "n_2_1 free Integer\n",
            "n_2_2 free Integer\n",
            "\n"
          ]
        }
      ]
    },
    {
      "cell_type": "markdown",
      "source": [
        "### Solving the model"
      ],
      "metadata": {
        "id": "DjZ71vKfO9mI"
      },
      "id": "DjZ71vKfO9mI"
    },
    {
      "cell_type": "code",
      "source": [
        "status = model.solve()"
      ],
      "metadata": {
        "id": "JZdAhUr4PS2R"
      },
      "id": "JZdAhUr4PS2R",
      "execution_count": 108,
      "outputs": []
    },
    {
      "cell_type": "code",
      "source": [
        "status"
      ],
      "metadata": {
        "colab": {
          "base_uri": "https://localhost:8080/"
        },
        "id": "pbBXDQS1O_vW",
        "outputId": "39efb4a5-fdf0-40ac-da59-6a565a48de58"
      },
      "id": "pbBXDQS1O_vW",
      "execution_count": 109,
      "outputs": [
        {
          "output_type": "execute_result",
          "data": {
            "text/plain": [
              "1"
            ]
          },
          "metadata": {},
          "execution_count": 109
        }
      ]
    },
    {
      "cell_type": "code",
      "source": [
        "for v in model.variables():\n",
        "    print(v.name, \"=\", v.varValue)"
      ],
      "metadata": {
        "colab": {
          "base_uri": "https://localhost:8080/"
        },
        "id": "B7E2R-ePPYpn",
        "outputId": "085ea37f-62ce-45d8-8135-70809a81d9e5"
      },
      "id": "B7E2R-ePPYpn",
      "execution_count": 110,
      "outputs": [
        {
          "output_type": "stream",
          "name": "stdout",
          "text": [
            "__dummy = None\n",
            "n_0_0 = 0.0\n",
            "n_0_1 = 1.0\n",
            "n_0_2 = 1.0\n",
            "n_1_0 = 1.0\n",
            "n_1_1 = 0.0\n",
            "n_1_2 = 1.0\n",
            "n_2_0 = 1.0\n",
            "n_2_1 = 1.0\n",
            "n_2_2 = 0.0\n"
          ]
        }
      ]
    },
    {
      "cell_type": "markdown",
      "source": [
        "# Problem Statement 2\n",
        "Given a set of non-stop routes pq for which there exists a market share curve relating traffic carried to daily frequency n , an aircraft fleet consisting of limited numbers of different types of aircraft, find the maximum income assignment of aircraft to routes such that a minimum daily frequency of service is maintained, and such that aircraft movements balance at every station while not exceeding an allowable maximum imposed by airport congestion"
      ],
      "metadata": {
        "id": "vBq4Ae59V29n"
      },
      "id": "vBq4Ae59V29n"
    },
    {
      "cell_type": "markdown",
      "source": [
        " Breakeven Load Factor – the number of seats they have to sell to cover operating expenses."
      ],
      "metadata": {
        "id": "G75iX8lsyGcA"
      },
      "id": "G75iX8lsyGcA"
    },
    {
      "cell_type": "code",
      "source": [],
      "metadata": {
        "id": "JTA669Wjizuv"
      },
      "id": "JTA669Wjizuv",
      "execution_count": null,
      "outputs": []
    }
  ],
  "metadata": {
    "kernelspec": {
      "display_name": "Python 3 (ipykernel)",
      "language": "python",
      "name": "python3"
    },
    "language_info": {
      "codemirror_mode": {
        "name": "ipython",
        "version": 3
      },
      "file_extension": ".py",
      "mimetype": "text/x-python",
      "name": "python",
      "nbconvert_exporter": "python",
      "pygments_lexer": "ipython3",
      "version": "3.10.10"
    },
    "colab": {
      "provenance": []
    }
  },
  "nbformat": 4,
  "nbformat_minor": 5
}